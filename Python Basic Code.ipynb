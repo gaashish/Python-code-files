{
 "cells": [
  {
   "cell_type": "markdown",
   "id": "71616298-b7e1-4136-9abf-89655a3e6c8a",
   "metadata": {},
   "source": [
    "# Python Tutorial"
   ]
  },
  {
   "cell_type": "code",
   "execution_count": 2,
   "id": "2968fc77-4000-447a-b879-894aba318789",
   "metadata": {},
   "outputs": [],
   "source": [
    "import sys\n",
    "import keyword\n",
    "import operator\n",
    "from datetime import datetime\n",
    "import os"
   ]
  },
  {
   "cell_type": "markdown",
   "id": "a4ab3e76-d059-44c6-9fdb-da882695110b",
   "metadata": {},
   "source": [
    "# Keywords\n",
    "### Keywords are the reserved words in python and can't be used as an identifer"
   ]
  },
  {
   "cell_type": "code",
   "execution_count": 6,
   "id": "5aaab41f-cec3-4d33-ac28-9bbec57d22fe",
   "metadata": {},
   "outputs": [
    {
     "name": "stdout",
     "output_type": "stream",
     "text": [
      "['False', 'None', 'True', 'and', 'as', 'assert', 'async', 'await', 'break', 'class', 'continue', 'def', 'del', 'elif', 'else', 'except', 'finally', 'for', 'from', 'global', 'if', 'import', 'in', 'is', 'lambda', 'nonlocal', 'not', 'or', 'pass', 'raise', 'return', 'try', 'while', 'with', 'yield']\n"
     ]
    }
   ],
   "source": [
    "print(keyword.kwlist) # list all python keywords"
   ]
  },
  {
   "cell_type": "code",
   "execution_count": 8,
   "id": "1c446452-d076-498d-bf6e-c97153b39540",
   "metadata": {},
   "outputs": [
    {
     "data": {
      "text/plain": [
       "35"
      ]
     },
     "execution_count": 8,
     "metadata": {},
     "output_type": "execute_result"
    }
   ],
   "source": [
    "len(keyword.kwlist) #python contains 35 keywords"
   ]
  },
  {
   "cell_type": "markdown",
   "id": "334abf5a-346e-4fbe-8d5f-9d73cbbbe20b",
   "metadata": {},
   "source": [
    "# Identifiers \n",
    "### An identifer is a name given to entities like class, functions, variables, etc. It helps to to differentiate one entity from another."
   ]
  },
  {
   "cell_type": "code",
   "execution_count": 11,
   "id": "672e7f94-4b88-43f1-b9d1-b7faa5bf3185",
   "metadata": {},
   "outputs": [
    {
     "ename": "SyntaxError",
     "evalue": "invalid decimal literal (2087397812.py, line 1)",
     "output_type": "error",
     "traceback": [
      "\u001b[1;36m  Cell \u001b[1;32mIn[11], line 1\u001b[1;36m\u001b[0m\n\u001b[1;33m    1var = 10 # Identifier can't start with a digit\u001b[0m\n\u001b[1;37m    ^\u001b[0m\n\u001b[1;31mSyntaxError\u001b[0m\u001b[1;31m:\u001b[0m invalid decimal literal\n"
     ]
    }
   ],
   "source": [
    "1var = 10 # Identifier can't start with a digit"
   ]
  },
  {
   "cell_type": "code",
   "execution_count": 13,
   "id": "2d8f8ce6-3994-4374-b005-675efc6c3c71",
   "metadata": {},
   "outputs": [
    {
     "ename": "SyntaxError",
     "evalue": "invalid syntax (761650662.py, line 1)",
     "output_type": "error",
     "traceback": [
      "\u001b[1;36m  Cell \u001b[1;32mIn[13], line 1\u001b[1;36m\u001b[0m\n\u001b[1;33m    val2@ = 34 # Identifier can't use special symbols\u001b[0m\n\u001b[1;37m          ^\u001b[0m\n\u001b[1;31mSyntaxError\u001b[0m\u001b[1;31m:\u001b[0m invalid syntax\n"
     ]
    }
   ],
   "source": [
    "val2@ = 34 # Identifier can't use special symbols"
   ]
  },
  {
   "cell_type": "code",
   "execution_count": 15,
   "id": "312d9665-2e73-427d-94c2-543c81e6a387",
   "metadata": {},
   "outputs": [
    {
     "ename": "SyntaxError",
     "evalue": "invalid syntax (2616259763.py, line 1)",
     "output_type": "error",
     "traceback": [
      "\u001b[1;36m  Cell \u001b[1;32mIn[15], line 1\u001b[1;36m\u001b[0m\n\u001b[1;33m    import = 123 #Keywords can't be used as identifers\u001b[0m\n\u001b[1;37m           ^\u001b[0m\n\u001b[1;31mSyntaxError\u001b[0m\u001b[1;31m:\u001b[0m invalid syntax\n"
     ]
    }
   ],
   "source": [
    "import = 123 #Keywords can't be used as identifers"
   ]
  },
  {
   "cell_type": "code",
   "execution_count": 17,
   "id": "e241fc31-f329-4406-aea2-986dc8d3a6e3",
   "metadata": {},
   "outputs": [],
   "source": [
    "\"\"\" \n",
    "Correct way of defining an identifier\n",
    "(Identifiers can be a combination of letters in lowercase (a to z) or uppercase (A to Z))\n",
    "\"\"\"\n",
    "val1 = 10"
   ]
  },
  {
   "cell_type": "code",
   "execution_count": 19,
   "id": "119fb37c-b8bd-439b-ae54-bfd1b9eb4354",
   "metadata": {},
   "outputs": [],
   "source": [
    "val_ = 98"
   ]
  },
  {
   "cell_type": "markdown",
   "id": "3839310b-bd31-4280-8333-6d9525d8b80d",
   "metadata": {},
   "source": [
    "# Comments in Python\n",
    "### Comments can be used to explain the code for more readabilty"
   ]
  },
  {
   "cell_type": "code",
   "execution_count": 22,
   "id": "0ce6bcde-e1b4-4832-a859-61470a65b6d2",
   "metadata": {},
   "outputs": [],
   "source": [
    "# Single line comment\n",
    "val1 = 10"
   ]
  },
  {
   "cell_type": "code",
   "execution_count": 24,
   "id": "6718a04b-3b16-44ae-b97a-e60232d236ab",
   "metadata": {},
   "outputs": [],
   "source": [
    "''' \n",
    "Multiple \n",
    "line\n",
    "comment\n",
    "'''\n",
    "val1= 10"
   ]
  },
  {
   "cell_type": "code",
   "execution_count": 26,
   "id": "e814685e-810e-42a1-87f4-841d36ca0e16",
   "metadata": {},
   "outputs": [],
   "source": [
    "\"\"\" \n",
    "Multiple \n",
    "line\n",
    "comment\n",
    "\"\"\"\n",
    "val1 = 10"
   ]
  },
  {
   "cell_type": "markdown",
   "id": "808aa673-6c90-40f6-b497-726ef2a21a8d",
   "metadata": {},
   "source": [
    "# Statements\n",
    "### Instructions that a python interpreter can exexute."
   ]
  },
  {
   "cell_type": "code",
   "execution_count": 29,
   "id": "fe3bc191-aaab-4ab1-9410-0105585525d9",
   "metadata": {},
   "outputs": [
    {
     "data": {
      "text/plain": [
       "(20, int, '0x7ff80b213c18')"
      ]
     },
     "execution_count": 29,
     "metadata": {},
     "output_type": "execute_result"
    }
   ],
   "source": [
    "p = 20  # Creates an integer object with value 20 and assign the variable p\n",
    "q = 20  # Creates new referance q which will point to value 20. p & q will be point\n",
    "r = q   # variable r will also point to the same location where P & q are pointing \n",
    "p , type(p), hex(id(p))"
   ]
  },
  {
   "cell_type": "code",
   "execution_count": 31,
   "id": "35f943ea-094d-47a2-abfc-9785ea88dde7",
   "metadata": {},
   "outputs": [
    {
     "data": {
      "text/plain": [
       "(20, int, '0x7ff80b213c18')"
      ]
     },
     "execution_count": 31,
     "metadata": {},
     "output_type": "execute_result"
    }
   ],
   "source": [
    "q , type(q), hex(id(q))"
   ]
  },
  {
   "cell_type": "code",
   "execution_count": 33,
   "id": "2da612ed-4338-4106-bbfa-4e6fa42f0f45",
   "metadata": {},
   "outputs": [
    {
     "data": {
      "text/plain": [
       "(20, int, '0x7ff80b213c18')"
      ]
     },
     "execution_count": 33,
     "metadata": {},
     "output_type": "execute_result"
    }
   ],
   "source": [
    "r , type(r), hex(id(r))"
   ]
  },
  {
   "cell_type": "code",
   "execution_count": 35,
   "id": "fd1598e4-61f2-4fb5-9910-05e6d95f80ac",
   "metadata": {},
   "outputs": [
    {
     "data": {
      "text/plain": [
       "30"
      ]
     },
     "execution_count": 35,
     "metadata": {},
     "output_type": "execute_result"
    }
   ],
   "source": [
    "p = 20 \n",
    "p = p + 10 # Variable Overwiriting\n",
    "p"
   ]
  },
  {
   "cell_type": "markdown",
   "id": "b0373f9d-6210-41c2-a432-f5fa5891f8a8",
   "metadata": {},
   "source": [
    "# Variable Assigment"
   ]
  },
  {
   "cell_type": "code",
   "execution_count": 38,
   "id": "af38cdd3-5fa0-4429-867a-69a321d9a710",
   "metadata": {},
   "outputs": [
    {
     "name": "stdout",
     "output_type": "stream",
     "text": [
      "10\n",
      "2.57\n",
      "Python Language\n"
     ]
    }
   ],
   "source": [
    "intvar = 10 # Integer Variable \n",
    "floatvar = 2.57 # Float Variable \n",
    "strvar = \"Python Language\" # String variable\n",
    "\n",
    "print(intvar)\n",
    "print(floatvar)\n",
    "print(strvar)"
   ]
  },
  {
   "cell_type": "markdown",
   "id": "3b31bb6b-58e2-4d21-a41e-f5e39233e3e5",
   "metadata": {},
   "source": [
    "Muliple Assignments"
   ]
  },
  {
   "cell_type": "code",
   "execution_count": 41,
   "id": "bc785fa5-980b-4856-adc1-3ac97482099c",
   "metadata": {},
   "outputs": [
    {
     "name": "stdout",
     "output_type": "stream",
     "text": [
      "10\n",
      "2.34\n",
      "pyhon language\n"
     ]
    }
   ],
   "source": [
    "intvar , floatvar, strvar = 10,2.34,\"pyhon language\" # using commas to separates the variables\n",
    "print(intvar)\n",
    "print(floatvar)\n",
    "print(strvar)"
   ]
  },
  {
   "cell_type": "code",
   "execution_count": 43,
   "id": "8920771b-bf68-4bc1-a381-94ea722fa641",
   "metadata": {},
   "outputs": [
    {
     "name": "stdout",
     "output_type": "stream",
     "text": [
      "44 44 44 44\n"
     ]
    }
   ],
   "source": [
    "p1 = p2 = p3 = p4 = 44 # All variables pointing to same values \n",
    "print(p1,p2,p3,p4)"
   ]
  },
  {
   "cell_type": "markdown",
   "id": "17a81ee9-cd8c-4635-bac1-657aeb4c31b8",
   "metadata": {},
   "source": [
    "# Data Types\n",
    "### Numeric"
   ]
  },
  {
   "cell_type": "code",
   "execution_count": 46,
   "id": "43fe7c15-11cb-4215-9202-c5e4462ecc8e",
   "metadata": {},
   "outputs": [
    {
     "name": "stdout",
     "output_type": "stream",
     "text": [
      "10\n",
      "<class 'int'>\n",
      "28\n",
      "10  is Integer?? True\n"
     ]
    }
   ],
   "source": [
    "val1 = 10 # Integer data type \n",
    "print(val1)\n",
    "print(type(val1)) # type of object\n",
    "print(sys.getsizeof(val1)) # size of integer object in bytes\n",
    "print(val1, \" is Integer??\", isinstance(val1,int)) # val1 is an instance of integer "
   ]
  },
  {
   "cell_type": "code",
   "execution_count": 50,
   "id": "d2db5cc5-e62a-4c01-b1dd-bbf3e209856f",
   "metadata": {},
   "outputs": [
    {
     "name": "stdout",
     "output_type": "stream",
     "text": [
      "92.23\n",
      "<class 'float'>\n",
      "24\n",
      "92.23  is Float?? True\n"
     ]
    }
   ],
   "source": [
    "val2 = 92.23 # Float data type \n",
    "print(val2)\n",
    "print(type(val2)) # type of object\n",
    "print(sys.getsizeof(val2)) # size of float object in bytes\n",
    "print(val2, \" is Float??\", isinstance(val2,float)) # val2 is an instance of float "
   ]
  },
  {
   "cell_type": "code",
   "execution_count": 54,
   "id": "62b5ea64-4653-439b-8649-b30e50757ae8",
   "metadata": {},
   "outputs": [
    {
     "name": "stdout",
     "output_type": "stream",
     "text": [
      "(10+20j)\n",
      "<class 'complex'>\n",
      "32\n",
      "(10+20j)  is Complex?? True\n"
     ]
    }
   ],
   "source": [
    "val3 = 10 + 20j # complex data type \n",
    "print(val3)\n",
    "print(type(val3)) # type of object\n",
    "print(sys.getsizeof(val3)) # size of complex object in bytes\n",
    "print(val3, \" is Complex??\", isinstance(val3,complex)) # val3 is an instance of complex"
   ]
  },
  {
   "cell_type": "code",
   "execution_count": 56,
   "id": "8535136a-2603-4f5d-9b16-7facb1a8acae",
   "metadata": {},
   "outputs": [
    {
     "data": {
      "text/plain": [
       "28"
      ]
     },
     "execution_count": 56,
     "metadata": {},
     "output_type": "execute_result"
    }
   ],
   "source": [
    "sys.getsizeof(int()) # size of integer object in bytes"
   ]
  },
  {
   "cell_type": "code",
   "execution_count": 60,
   "id": "af84fab5-de99-499f-9590-fb4223c569be",
   "metadata": {},
   "outputs": [
    {
     "data": {
      "text/plain": [
       "24"
      ]
     },
     "execution_count": 60,
     "metadata": {},
     "output_type": "execute_result"
    }
   ],
   "source": [
    "sys.getsizeof(float()) # size of flaot object in bytes"
   ]
  },
  {
   "cell_type": "code",
   "execution_count": 62,
   "id": "9912f577-0b78-45e9-bd98-3b5bde059f8d",
   "metadata": {},
   "outputs": [
    {
     "data": {
      "text/plain": [
       "32"
      ]
     },
     "execution_count": 62,
     "metadata": {},
     "output_type": "execute_result"
    }
   ],
   "source": [
    "sys.getsizeof(complex()) # size of complex object in bytes"
   ]
  },
  {
   "cell_type": "markdown",
   "id": "8af2a91f-e34e-43ef-a00a-939e399e1f0a",
   "metadata": {},
   "source": [
    "#  Boolean \n",
    "#### Boolean data type can have only two possible values \"true\" or \"false\""
   ]
  },
  {
   "cell_type": "code",
   "execution_count": 66,
   "id": "7aa4d134-fe6b-458e-95c4-3eab378516f3",
   "metadata": {},
   "outputs": [],
   "source": [
    "bool1 = True"
   ]
  },
  {
   "cell_type": "code",
   "execution_count": 70,
   "id": "2c6e7807-0ffb-44f5-9cf6-c664fd6ab314",
   "metadata": {},
   "outputs": [],
   "source": [
    "bool2 = False"
   ]
  },
  {
   "cell_type": "code",
   "execution_count": 72,
   "id": "f5473961-1008-44bb-838f-fb49b0c4d7c4",
   "metadata": {},
   "outputs": [
    {
     "name": "stdout",
     "output_type": "stream",
     "text": [
      "<class 'bool'>\n"
     ]
    }
   ],
   "source": [
    "print(type(bool1))"
   ]
  },
  {
   "cell_type": "code",
   "execution_count": 74,
   "id": "6c818e84-55b8-424e-861b-9a26f3691d9f",
   "metadata": {},
   "outputs": [
    {
     "name": "stdout",
     "output_type": "stream",
     "text": [
      "<class 'bool'>\n"
     ]
    }
   ],
   "source": [
    "print(type(bool2))"
   ]
  },
  {
   "cell_type": "code",
   "execution_count": 76,
   "id": "afbd13fd-11d3-4a86-ad75-5774ff18f6a9",
   "metadata": {},
   "outputs": [
    {
     "data": {
      "text/plain": [
       "True"
      ]
     },
     "execution_count": 76,
     "metadata": {},
     "output_type": "execute_result"
    }
   ],
   "source": [
    "isinstance(bool1,bool)"
   ]
  },
  {
   "cell_type": "code",
   "execution_count": 78,
   "id": "bd8fcca2-5b82-4fe3-b244-979481acb94b",
   "metadata": {},
   "outputs": [
    {
     "data": {
      "text/plain": [
       "False"
      ]
     },
     "execution_count": 78,
     "metadata": {},
     "output_type": "execute_result"
    }
   ],
   "source": [
    "bool(0)"
   ]
  },
  {
   "cell_type": "code",
   "execution_count": 80,
   "id": "fe34a668-4d07-4012-8da2-80197712e7ea",
   "metadata": {},
   "outputs": [
    {
     "data": {
      "text/plain": [
       "True"
      ]
     },
     "execution_count": 80,
     "metadata": {},
     "output_type": "execute_result"
    }
   ],
   "source": [
    "bool(1)"
   ]
  },
  {
   "cell_type": "code",
   "execution_count": 82,
   "id": "e79c9b3e-459b-4bbc-9a1e-0d356264a21e",
   "metadata": {},
   "outputs": [
    {
     "data": {
      "text/plain": [
       "False"
      ]
     },
     "execution_count": 82,
     "metadata": {},
     "output_type": "execute_result"
    }
   ],
   "source": [
    "bool(None)"
   ]
  },
  {
   "cell_type": "code",
   "execution_count": 84,
   "id": "88e96962-4169-4706-9369-b220b0b5fbb1",
   "metadata": {},
   "outputs": [
    {
     "data": {
      "text/plain": [
       "False"
      ]
     },
     "execution_count": 84,
     "metadata": {},
     "output_type": "execute_result"
    }
   ],
   "source": [
    "bool(False)"
   ]
  },
  {
   "cell_type": "markdown",
   "id": "e0ea4d1f-e530-4376-aca6-8ad24745cc3a",
   "metadata": {},
   "source": [
    "# Stings\n",
    "### Sting Creation"
   ]
  },
  {
   "cell_type": "code",
   "execution_count": 87,
   "id": "b2182c67-3784-4e4e-a606-06695601d91c",
   "metadata": {},
   "outputs": [
    {
     "name": "stdout",
     "output_type": "stream",
     "text": [
      "HELLO PYTHON\n"
     ]
    }
   ],
   "source": [
    "str1 = \"HELLO PYTHON\"\n",
    "print(str1)"
   ]
  },
  {
   "cell_type": "code",
   "execution_count": 89,
   "id": "035049cc-c5e5-450e-8969-e3148ca86483",
   "metadata": {},
   "outputs": [
    {
     "name": "stdout",
     "output_type": "stream",
     "text": [
      "Hello World\n"
     ]
    }
   ],
   "source": [
    "mystr = 'Hello World' # Define String using single quotes\n",
    "print(mystr)"
   ]
  },
  {
   "cell_type": "code",
   "execution_count": 91,
   "id": "fe06144d-7447-4f31-92c7-ef5de6990421",
   "metadata": {},
   "outputs": [
    {
     "name": "stdout",
     "output_type": "stream",
     "text": [
      "Hello World\n"
     ]
    }
   ],
   "source": [
    "mystr = \"Hello World\" # Define string using double quotes\n",
    "print(mystr)"
   ]
  },
  {
   "cell_type": "code",
   "execution_count": 95,
   "id": "1f6e4fd9-4caf-4c8c-9cf6-2cc7984ec04d",
   "metadata": {},
   "outputs": [
    {
     "name": "stdout",
     "output_type": "stream",
     "text": [
      " Hello\n",
      "           World \n"
     ]
    }
   ],
   "source": [
    "mystr = ''' Hello\n",
    "           World '''  # Define string using triple quotes\n",
    "print(mystr)"
   ]
  },
  {
   "cell_type": "code",
   "execution_count": 97,
   "id": "dcccad0a-2a51-438b-b85b-36c1a4442b56",
   "metadata": {},
   "outputs": [
    {
     "name": "stdout",
     "output_type": "stream",
     "text": [
      "Hello\n",
      "            World\n"
     ]
    }
   ],
   "source": [
    "mystr = \"\"\"Hello\n",
    "            World\"\"\" # Define sting using triple quotes\n",
    "print(mystr)"
   ]
  },
  {
   "cell_type": "code",
   "execution_count": 99,
   "id": "c2da4433-d8ae-4041-b13c-9e2865d72c53",
   "metadata": {},
   "outputs": [
    {
     "name": "stdout",
     "output_type": "stream",
     "text": [
      "Happy Monday Everyday \n"
     ]
    }
   ],
   "source": [
    "mystr = ('Happy ' \n",
    "        'Monday '\n",
    "        'Everyday ')\n",
    "print(mystr)"
   ]
  },
  {
   "cell_type": "code",
   "execution_count": 101,
   "id": "5ab98c8f-6741-4536-8a38-b5c18a3e4c4a",
   "metadata": {},
   "outputs": [
    {
     "data": {
      "text/plain": [
       "'Woohoo Woohoo Woohoo Woohoo Woohoo '"
      ]
     },
     "execution_count": 101,
     "metadata": {},
     "output_type": "execute_result"
    }
   ],
   "source": [
    "mystr2 = 'Woohoo '\n",
    "mystr2 = mystr2*5\n",
    "mystr2"
   ]
  },
  {
   "cell_type": "code",
   "execution_count": 103,
   "id": "edce2410-0b7d-4afd-b0f7-108e0db1efcc",
   "metadata": {},
   "outputs": [
    {
     "data": {
      "text/plain": [
       "35"
      ]
     },
     "execution_count": 103,
     "metadata": {},
     "output_type": "execute_result"
    }
   ],
   "source": [
    "len(mystr2) # length of string"
   ]
  },
  {
   "cell_type": "markdown",
   "id": "ebe1ddf1-7f51-4ea0-8766-6b6f71bcb2ed",
   "metadata": {},
   "source": [
    "# String Indexing"
   ]
  },
  {
   "cell_type": "code",
   "execution_count": 108,
   "id": "6039d4a2-4b9d-4f8f-bf73-167003f50bb3",
   "metadata": {},
   "outputs": [
    {
     "data": {
      "text/plain": [
       "'HELLO PYTHON'"
      ]
     },
     "execution_count": 108,
     "metadata": {},
     "output_type": "execute_result"
    }
   ],
   "source": [
    "str1"
   ]
  },
  {
   "cell_type": "code",
   "execution_count": 110,
   "id": "88960ad3-2ddc-47dc-a836-c8e2abf55755",
   "metadata": {},
   "outputs": [
    {
     "data": {
      "text/plain": [
       "'H'"
      ]
     },
     "execution_count": 110,
     "metadata": {},
     "output_type": "execute_result"
    }
   ],
   "source": [
    "str1[0] # First character in string \"str1\""
   ]
  },
  {
   "cell_type": "code",
   "execution_count": 112,
   "id": "6d62d186-d033-428e-ab62-b391fbf0803d",
   "metadata": {},
   "outputs": [
    {
     "data": {
      "text/plain": [
       "'N'"
      ]
     },
     "execution_count": 112,
     "metadata": {},
     "output_type": "execute_result"
    }
   ],
   "source": [
    "str1[len(str1)-1] # last Character in string using len function "
   ]
  },
  {
   "cell_type": "code",
   "execution_count": 114,
   "id": "af536d7d-feb3-45b9-a422-0f860be7098f",
   "metadata": {},
   "outputs": [
    {
     "data": {
      "text/plain": [
       "'N'"
      ]
     },
     "execution_count": 114,
     "metadata": {},
     "output_type": "execute_result"
    }
   ],
   "source": [
    "str1[-1] # Last character in string"
   ]
  },
  {
   "cell_type": "code",
   "execution_count": 116,
   "id": "2c67efe7-82fc-49ba-a87c-297a9ddc0bb0",
   "metadata": {},
   "outputs": [
    {
     "data": {
      "text/plain": [
       "'P'"
      ]
     },
     "execution_count": 116,
     "metadata": {},
     "output_type": "execute_result"
    }
   ],
   "source": [
    "str1[6] # Fetch 7th element of the string"
   ]
  },
  {
   "cell_type": "code",
   "execution_count": 118,
   "id": "7a501164-9fcc-4aa4-a3f5-b7976078148b",
   "metadata": {},
   "outputs": [
    {
     "data": {
      "text/plain": [
       "' '"
      ]
     },
     "execution_count": 118,
     "metadata": {},
     "output_type": "execute_result"
    }
   ],
   "source": [
    "str1[5]"
   ]
  },
  {
   "cell_type": "markdown",
   "id": "2220158c-5aad-4394-99d3-2a850cec8d4b",
   "metadata": {},
   "source": [
    "### String Slicing"
   ]
  },
  {
   "cell_type": "code",
   "execution_count": 131,
   "id": "3ae1149f-9dd9-4ce4-b1fb-7b336732d140",
   "metadata": {},
   "outputs": [
    {
     "data": {
      "text/plain": [
       "'HELLO'"
      ]
     },
     "execution_count": 131,
     "metadata": {},
     "output_type": "execute_result"
    }
   ],
   "source": [
    "str1[0:5] # String slicing - Fetch all characters from 0 to 5 index location expect 5"
   ]
  },
  {
   "cell_type": "code",
   "execution_count": 133,
   "id": "0972b76f-fb0c-44ac-b09e-182720ffb935",
   "metadata": {},
   "outputs": [
    {
     "data": {
      "text/plain": [
       "'PYTHON'"
      ]
     },
     "execution_count": 133,
     "metadata": {},
     "output_type": "execute_result"
    }
   ],
   "source": [
    "str1[6:12] # String Slicing - Retreive all characters between 6 - 12 index loc expect 12 "
   ]
  },
  {
   "cell_type": "code",
   "execution_count": 135,
   "id": "4d2468f0-faf3-4708-b104-bdc8c211191a",
   "metadata": {},
   "outputs": [
    {
     "data": {
      "text/plain": [
       "'THON'"
      ]
     },
     "execution_count": 135,
     "metadata": {},
     "output_type": "execute_result"
    }
   ],
   "source": [
    "str1[-4:] # Retreive last four charactors of the string"
   ]
  },
  {
   "cell_type": "code",
   "execution_count": 137,
   "id": "587be338-94dd-43c4-8dcb-234fd13dad25",
   "metadata": {},
   "outputs": [
    {
     "data": {
      "text/plain": [
       "'PYTHON'"
      ]
     },
     "execution_count": 137,
     "metadata": {},
     "output_type": "execute_result"
    }
   ],
   "source": [
    "str1[-6:] # Retrive last six charcters of the string"
   ]
  },
  {
   "cell_type": "code",
   "execution_count": 139,
   "id": "9efb89d6-9d4b-4198-944d-b46edab97018",
   "metadata": {},
   "outputs": [
    {
     "data": {
      "text/plain": [
       "'HELL'"
      ]
     },
     "execution_count": 139,
     "metadata": {},
     "output_type": "execute_result"
    }
   ],
   "source": [
    "str1[:4] # Retrive first four characters of the string"
   ]
  },
  {
   "cell_type": "code",
   "execution_count": 141,
   "id": "5a867536-a79f-4aa7-90ce-5629ad68b9a4",
   "metadata": {},
   "outputs": [
    {
     "data": {
      "text/plain": [
       "'HELLO '"
      ]
     },
     "execution_count": 141,
     "metadata": {},
     "output_type": "execute_result"
    }
   ],
   "source": [
    "str1[:6] # Retrive first six charcters of the string"
   ]
  },
  {
   "cell_type": "markdown",
   "id": "5e264e38-1b8a-4e8f-8199-00c3e57ff977",
   "metadata": {},
   "source": [
    "### Update & Delete String"
   ]
  },
  {
   "cell_type": "code",
   "execution_count": 144,
   "id": "b7b98ee4-3227-4bfa-abb8-28a4c73db040",
   "metadata": {},
   "outputs": [
    {
     "data": {
      "text/plain": [
       "'HELLO PYTHON'"
      ]
     },
     "execution_count": 144,
     "metadata": {},
     "output_type": "execute_result"
    }
   ],
   "source": [
    "str1"
   ]
  },
  {
   "cell_type": "code",
   "execution_count": 146,
   "id": "f03c1572-c628-4bbe-9117-1ea373dda33c",
   "metadata": {},
   "outputs": [
    {
     "ename": "TypeError",
     "evalue": "'str' object does not support item assignment",
     "output_type": "error",
     "traceback": [
      "\u001b[1;31m-----------------------------------------------------------\u001b[0m",
      "\u001b[1;31mTypeError\u001b[0m                 Traceback (most recent call last)",
      "Cell \u001b[1;32mIn[146], line 2\u001b[0m\n\u001b[0;32m      1\u001b[0m \u001b[38;5;66;03m# Strings are immutable which means elements of the string cannot be changed once they have been assigned.\u001b[39;00m\n\u001b[1;32m----> 2\u001b[0m str1[\u001b[38;5;241m0\u001b[39m:\u001b[38;5;241m5\u001b[39m] \u001b[38;5;241m=\u001b[39m \u001b[38;5;124m'\u001b[39m\u001b[38;5;124mHOLLA\u001b[39m\u001b[38;5;124m'\u001b[39m\n",
      "\u001b[1;31mTypeError\u001b[0m: 'str' object does not support item assignment"
     ]
    }
   ],
   "source": [
    "# Strings are immutable which means elements of the string cannot be changed once they have been assigned.\n",
    "str1[0:5] = 'HOLLA'"
   ]
  },
  {
   "cell_type": "code",
   "execution_count": 148,
   "id": "79feabc9-abb0-4db9-b05a-24c6110398c5",
   "metadata": {},
   "outputs": [
    {
     "ename": "NameError",
     "evalue": "name 'str1' is not defined",
     "output_type": "error",
     "traceback": [
      "\u001b[1;31m-----------------------------------------------------------\u001b[0m",
      "\u001b[1;31mNameError\u001b[0m                 Traceback (most recent call last)",
      "Cell \u001b[1;32mIn[148], line 2\u001b[0m\n\u001b[0;32m      1\u001b[0m \u001b[38;5;28;01mdel\u001b[39;00m str1 \u001b[38;5;66;03m# Delete a sttring\u001b[39;00m\n\u001b[1;32m----> 2\u001b[0m \u001b[38;5;28mprint\u001b[39m(str1)\n",
      "\u001b[1;31mNameError\u001b[0m: name 'str1' is not defined"
     ]
    }
   ],
   "source": [
    "del str1 # Delete a sttring\n",
    "print(str1)"
   ]
  },
  {
   "cell_type": "markdown",
   "id": "b0840714-c424-4062-8286-1c0fe5628247",
   "metadata": {},
   "source": [
    "### String Concatenation"
   ]
  },
  {
   "cell_type": "code",
   "execution_count": 151,
   "id": "be07e23e-a76a-42ca-a4cd-faca7dbc3892",
   "metadata": {},
   "outputs": [
    {
     "name": "stdout",
     "output_type": "stream",
     "text": [
      "HelloAashish\n"
     ]
    }
   ],
   "source": [
    "# String Concatenation \n",
    "s1 = \"Hello\"\n",
    "s2 = \"Aashish\"\n",
    "s3 = s1 + s2\n",
    "print(s3)"
   ]
  },
  {
   "cell_type": "code",
   "execution_count": null,
   "id": "2c4cf8aa-5914-4d61-8b67-0bc504dc073b",
   "metadata": {},
   "outputs": [],
   "source": []
  }
 ],
 "metadata": {
  "kernelspec": {
   "display_name": "Python 3 (ipykernel)",
   "language": "python",
   "name": "python3"
  },
  "language_info": {
   "codemirror_mode": {
    "name": "ipython",
    "version": 3
   },
   "file_extension": ".py",
   "mimetype": "text/x-python",
   "name": "python",
   "nbconvert_exporter": "python",
   "pygments_lexer": "ipython3",
   "version": "3.12.4"
  }
 },
 "nbformat": 4,
 "nbformat_minor": 5
}
