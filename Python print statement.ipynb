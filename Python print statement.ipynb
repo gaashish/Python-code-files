{
 "cells": [
  {
   "cell_type": "markdown",
   "id": "87fe7b27-74b1-4e45-b2c9-b34da6e7020a",
   "metadata": {},
   "source": [
    "# Print is use for answer"
   ]
  },
  {
   "cell_type": "code",
   "execution_count": 2,
   "id": "fe6e35ce-dbd0-4a11-adcf-8a912ceb282a",
   "metadata": {},
   "outputs": [
    {
     "data": {
      "text/plain": [
       "20"
      ]
     },
     "execution_count": 2,
     "metadata": {},
     "output_type": "execute_result"
    }
   ],
   "source": [
    "a= 10\n",
    "b= 20\n",
    "a\n",
    "b"
   ]
  },
  {
   "cell_type": "code",
   "execution_count": 3,
   "id": "b29c094a-2501-47b7-bcac-00db013606cc",
   "metadata": {},
   "outputs": [
    {
     "name": "stdout",
     "output_type": "stream",
     "text": [
      "10\n",
      "20\n"
     ]
    }
   ],
   "source": [
    "a= 10\n",
    "b= 20\n",
    "print(a)\n",
    "print(b)"
   ]
  },
  {
   "cell_type": "code",
   "execution_count": 4,
   "id": "9e3f2ef0-9cb9-4b95-b64d-6dd49882098f",
   "metadata": {},
   "outputs": [
    {
     "name": "stdout",
     "output_type": "stream",
     "text": [
      "10\n",
      "10 20\n",
      "python\n",
      "10 20 python\n"
     ]
    }
   ],
   "source": [
    "print(10)\n",
    "print(10,20)\n",
    "print('python')\n",
    "print(10,20,'python')"
   ]
  },
  {
   "cell_type": "code",
   "execution_count": 5,
   "id": "66db4434-4d08-4372-84b1-d91586e5d1a6",
   "metadata": {},
   "outputs": [
    {
     "name": "stdout",
     "output_type": "stream",
     "text": [
      "50\n"
     ]
    }
   ],
   "source": [
    "num1 =20\n",
    "num2= 30\n",
    "add = num1 + num2\n",
    "print(add)"
   ]
  },
  {
   "cell_type": "markdown",
   "id": "674e233c-6c38-43a8-8dfa-30395e6430e8",
   "metadata": {},
   "source": [
    "# Print result with string"
   ]
  },
  {
   "cell_type": "code",
   "execution_count": 7,
   "id": "2cab510e-619e-4c04-9c16-6627f51681c3",
   "metadata": {},
   "outputs": [
    {
     "name": "stdout",
     "output_type": "stream",
     "text": [
      "the addition of 20 and 30 is = 50\n"
     ]
    }
   ],
   "source": [
    "num1 = 20\n",
    "num2 = 30\n",
    "add = num1 + num2\n",
    "print('the addition of',  num1 , 'and', num2, 'is =', add)"
   ]
  },
  {
   "cell_type": "code",
   "execution_count": 20,
   "id": "64f557c0-0b28-48ec-96d4-c633abbd6870",
   "metadata": {},
   "outputs": [],
   "source": [
    "name = 'python'\n",
    "age = 20\n",
    "city = 'hyd'\n",
    "# hello my name is python and i am  10 year old from hydrabad"
   ]
  },
  {
   "cell_type": "code",
   "execution_count": 22,
   "id": "1780b1b6-7c8f-4065-9fc6-3d6eddd2c248",
   "metadata": {},
   "outputs": [
    {
     "name": "stdout",
     "output_type": "stream",
     "text": [
      "My name is  python and i am 20 years old form hyd\n"
     ]
    }
   ],
   "source": [
    "print('My name is ', name, 'and i am' , age, 'years old form',city)"
   ]
  },
  {
   "cell_type": "markdown",
   "id": "44029218-3755-4706-83a9-460130c4e415",
   "metadata": {},
   "source": [
    "### print format method "
   ]
  },
  {
   "cell_type": "code",
   "execution_count": 25,
   "id": "774a20ec-f8fb-4776-8ee3-d18770d23a2f",
   "metadata": {},
   "outputs": [
    {
     "name": "stdout",
     "output_type": "stream",
     "text": [
      "The addition of 20 and 30 is = 50 \n"
     ]
    }
   ],
   "source": [
    "num1 = 20 \n",
    "num2 = 30\n",
    "add = num1 + num2\n",
    "print('The addition of {} and {} is = {} '.format(num1, num2,add))"
   ]
  },
  {
   "cell_type": "raw",
   "id": "8e066fdf-cdc9-4b87-9813-1417f4b386e6",
   "metadata": {},
   "source": [
    "    - first deside how the print statement should be like:\n",
    "    - The addition of 20 and 30 is = 50\n",
    "    - then replace the variable position with curly brtacesm { }\n",
    "    - \n",
    "then appply .format(val1,val2,....val-n methodm"
   ]
  },
  {
   "cell_type": "code",
   "execution_count": null,
   "id": "8eb064ab-602c-4c20-9fff-f7197bc0175b",
   "metadata": {},
   "outputs": [],
   "source": [
    "name = 'python'\n",
    "age = 20\n",
    "city = 'hyd'"
   ]
  },
  {
   "cell_type": "markdown",
   "id": "1bd342cd-1c39-46e6-b7dc-7a3ab2880691",
   "metadata": {},
   "source": [
    "# Multiline String"
   ]
  },
  {
   "cell_type": "code",
   "execution_count": 32,
   "id": "746e8110-cd3b-4471-998b-6f8626c1ac2f",
   "metadata": {},
   "outputs": [
    {
     "name": "stdout",
     "output_type": "stream",
     "text": [
      "Dear Alice,\n",
      "    \n",
      "    Eve's cat has been arrested for catnapping,\n",
      "    cat burglary, and extortion.\n",
      "    Sincerely,\n",
      "    Bob\n"
     ]
    }
   ],
   "source": [
    "print(\n",
    "    \"\"\"Dear Alice,\n",
    "    \n",
    "    Eve's cat has been arrested for catnapping,\n",
    "    cat burglary, and extortion.\n",
    "    Sincerely,\n",
    "    Bob\"\"\"\n",
    ")"
   ]
  },
  {
   "cell_type": "code",
   "execution_count": null,
   "id": "43f27b0c-e75d-4e40-8f94-b8ab0ee2e57b",
   "metadata": {},
   "outputs": [],
   "source": []
  }
 ],
 "metadata": {
  "kernelspec": {
   "display_name": "Python 3 (ipykernel)",
   "language": "python",
   "name": "python3"
  },
  "language_info": {
   "codemirror_mode": {
    "name": "ipython",
    "version": 3
   },
   "file_extension": ".py",
   "mimetype": "text/x-python",
   "name": "python",
   "nbconvert_exporter": "python",
   "pygments_lexer": "ipython3",
   "version": "3.12.4"
  }
 },
 "nbformat": 4,
 "nbformat_minor": 5
}
